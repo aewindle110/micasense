{
 "cells": [
  {
   "cell_type": "markdown",
   "metadata": {},
   "source": [
    "### Create aligned, stacked tifs from MicaSense image captures\n",
    "\n",
    "This script should be used for one station at a time. \n",
    "\n",
    "Metadata is saved as log.csv\n"
   ]
  },
  {
   "cell_type": "code",
   "execution_count": 7,
   "metadata": {},
   "outputs": [],
   "source": [
    "import os\n",
    "from micasense import imageset as imageset\n",
    "from micasense import capture as capture\n",
    "from micasense import image as image\n",
    "from micasense import metadata as metadata\n",
    "import pandas as pd\n",
    "import matplotlib.pyplot as plt\n",
    "import numpy as np"
   ]
  },
  {
   "cell_type": "markdown",
   "metadata": {},
   "source": [
    "### Load in Lsky and Lt captures\n",
    "***Must change 'i=' to run script on each station*** <br>\n"
   ]
  },
  {
   "cell_type": "code",
   "execution_count": 10,
   "metadata": {},
   "outputs": [
    {
     "name": "stdout",
     "output_type": "stream",
     "text": [
      "0002SET\n",
      "# of Lsky captures = 3\n",
      "# of main captures =  87\n",
      "Altitude cutoff = 14.761\n",
      "Mean altitude = 33.495\n",
      "# of flight captures = 31\n"
     ]
    },
    {
     "data": {
      "image/png": "[encoded data removed]",
      "text/plain": [
       "<Figure size 432x288 with 1 Axes>"
      ]
     },
     "metadata": {
      "needs_background": "light"
     },
     "output_type": "display_data"
    }
   ],
   "source": [
    "station_data = pd.read_excel(os.path.join('F:/', 'Micasense_WQ', 'station_data.xlsx'), index_col=False)\n",
    "i=17\n",
    "\n",
    "date = station_data['Date'][i]\n",
    "mica_dir = station_data['MicaSense dir'][i]\n",
    "print(mica_dir)\n",
    "\n",
    "imagePath = os.path.join('S:/', 'Micasense_WQ', date, mica_dir, '000')\n",
    "\n",
    "#load Lsky imageset\n",
    "Lsky_images_dir = os.path.join(imagePath, 'Lsky')\n",
    "Lsky_imgset = imageset.ImageSet.from_directory(Lsky_images_dir)\n",
    "Lsky_captures = Lsky_imgset.captures\n",
    "print('# of Lsky captures =', len(Lsky_captures))\n",
    "\n",
    "#load main dataset\n",
    "main_images_dir = os.path.join(imagePath, 'main')\n",
    "main_imgset = imageset.ImageSet.from_directory(main_images_dir)\n",
    "main_captures = main_imgset.captures\n",
    "print('# of main captures = ', len(main_captures))\n",
    "\n",
    "#load flight captures\n",
    "data, columns = main_imgset.as_nested_lists()\n",
    "df = pd.DataFrame.from_records(data, index='timestamp', columns=columns)\n",
    "\n",
    "# plot the histogram of the altitude data\n",
    "df.altitude.hist();\n",
    "plt.xlabel('Capture altitude (m)');\n",
    "plt.ylabel('Number of occurances');\n",
    "\n",
    "#using top 30 highest altitude captures\n",
    "top_30 = df.nlargest(30, 'altitude')\n",
    "top_30_cutoff = top_30.altitude.min()\n",
    "print('Altitude cutoff =', top_30_cutoff)\n",
    "print('Mean altitude =', top_30.altitude.mean())\n",
    "\n",
    "#add cutoff line to histrogram\n",
    "plt.axvline(x=top_30_cutoff,c='r');\n",
    "\n",
    "#declare 30 flight captures\n",
    "flight = df.altitude>=top_30_cutoff\n",
    "flight_idx = np.arange(len(flight))[flight]\n",
    "flight_captures = np.array(main_imgset.captures)[flight_idx] \n",
    "print('# of flight captures =', len(flight_captures))\n"
   ]
  },
  {
   "cell_type": "markdown",
   "metadata": {},
   "source": [
    "### Create new directories and save aligned, stacked Lsky tifs \n",
    "\n",
    "This code was taken from provided MicaSense scripts: Batch Processing.ipynb from https://github.com/micasense/imageprocessing"
   ]
  },
  {
   "cell_type": "code",
   "execution_count": 3,
   "metadata": {},
   "outputs": [
    {
     "data": {
      "text/plain": [
       "\"\\n#create directory paths\\noutputPath = os.path.join(imagePath, 'Lsky_stacks')\\nthumbnailPath = os.path.join(imagePath, 'Lsky_thumbnails')\\n\\noverwrite = True # can be set to set to False to continue interrupted processing\\ngenerateThumbnails = True\\n\\nif not os.path.exists(outputPath):\\n    os.makedirs(outputPath)\\nif generateThumbnails and not os.path.exists(thumbnailPath):\\n    os.makedirs(thumbnailPath)\\n\\npanelNames = None\\nuseDLS = False\\n\\n#loop through each flight capture to align and save as stacked tif \\nfor i,capture in enumerate(Lsky_captures):\\n    outputFilename = capture.uuid+'.tif'\\n    thumbnailFilename = capture.uuid+'.jpg'\\n    fullOutputPath = os.path.join(outputPath, outputFilename)\\n    fullThumbnailPath= os.path.join(thumbnailPath, thumbnailFilename)\\n    if (not os.path.exists(fullOutputPath)) or overwrite:\\n        if(len(capture.images) == len(Lsky_captures[0].images)):\\n            align = capture.create_aligned_capture(irradiance_list=None, warp_matrices=None, img_type='radiance')\\n            stack = capture.save_capture_as_stack(fullOutputPath, sort_by_wavelength = True)\\n            if generateThumbnails:\\n                capture.save_capture_as_rgb(fullThumbnailPath)\\n    capture.clear_image_data()\\n\""
      ]
     },
     "execution_count": 3,
     "metadata": {},
     "output_type": "execute_result"
    }
   ],
   "source": [
    "#create directory paths\n",
    "outputPath = os.path.join(imagePath, 'Lsky_stacks')\n",
    "thumbnailPath = os.path.join(imagePath, 'Lsky_thumbnails')\n",
    "\n",
    "overwrite = True # can be set to set to False to continue interrupted processing\n",
    "generateThumbnails = True\n",
    "\n",
    "if not os.path.exists(outputPath):\n",
    "    os.makedirs(outputPath)\n",
    "if generateThumbnails and not os.path.exists(thumbnailPath):\n",
    "    os.makedirs(thumbnailPath)\n",
    "\n",
    "panelNames = None\n",
    "useDLS = False\n",
    "\n",
    "#loop through each flight capture to align and save as stacked tif \n",
    "for i,capture in enumerate(Lsky_captures):\n",
    "    outputFilename = capture.uuid+'.tif'\n",
    "    thumbnailFilename = capture.uuid+'.jpg'\n",
    "    fullOutputPath = os.path.join(outputPath, outputFilename)\n",
    "    fullThumbnailPath= os.path.join(thumbnailPath, thumbnailFilename)\n",
    "    if (not os.path.exists(fullOutputPath)) or overwrite:\n",
    "        if(len(capture.images) == len(Lsky_captures[0].images)):\n",
    "            align = capture.create_aligned_capture(irradiance_list=None, warp_matrices=None, img_type='radiance')\n",
    "            stack = capture.save_capture_as_stack(fullOutputPath, sort_by_wavelength = True)\n",
    "            if generateThumbnails:\n",
    "                capture.save_capture_as_rgb(fullThumbnailPath)\n",
    "    capture.clear_image_data()\n"
   ]
  },
  {
   "cell_type": "markdown",
   "metadata": {},
   "source": [
    "### Extract metadata and save as log.csv\n",
    "\n",
    "This code was taken from provided MicaSense scripts: Batch Processing.ipynb from https://github.com/micasense/imageprocessing"
   ]
  },
  {
   "cell_type": "code",
   "execution_count": 4,
   "metadata": {},
   "outputs": [
    {
     "data": {
      "text/plain": [
       "'\\n#extract metadata from captures list and save to log.csv\\n\\ndef decdeg2dms(dd):\\n   is_positive = dd >= 0\\n   dd = abs(dd)\\n   minutes,seconds = divmod(dd*3600,60)\\n   degrees,minutes = divmod(minutes,60)\\n   degrees = degrees if is_positive else -degrees\\n   return (degrees,minutes,seconds)\\n\\nheader = \"SourceFile,GPSDateStamp,GPSTimeStamp,GPSLatitude,GpsLatitudeRef,GPSLongitude,GPSLongitudeRef,GPSAltitude,GPSAltitudeRef,FocalLength,XResolution,YResolution,ResolutionUnits\\n\"\\n\\nlines = [header]\\nfor capture in Lsky_captures:\\n    #get lat,lon,alt,time\\n    outputFilename = capture.uuid+\\'.tif\\'\\n    fullOutputPath = os.path.join(outputPath, outputFilename)\\n    lat,lon,alt = capture.location()\\n    #write to csv in format:\\n    # IMG_0199_1.tif,\"33 deg 32\\' 9.73\"\" N\",\"111 deg 51\\' 1.41\"\" W\",526 m Above Sea Level\\n    latdeg, latmin, latsec = decdeg2dms(lat)\\n    londeg, lonmin, lonsec = decdeg2dms(lon)\\n    latdir = \\'North\\'\\n    if latdeg < 0:\\n        latdeg = -latdeg\\n        latdir = \\'South\\'\\n    londir = \\'East\\'\\n    if londeg < 0:\\n        londeg = -londeg\\n        londir = \\'West\\'\\n    resolution = capture.images[0].focal_plane_resolution_px_per_mm\\n\\n    linestr = \\'\"{}\",\\'.format(fullOutputPath)\\n    linestr += capture.utc_time().strftime(\"%Y:%m:%d,%H:%M:%S,\")\\n    linestr += \\'\"{:d} deg {:d}\\' {:.2f}\"\" {}\",{},\\'.format(int(latdeg),int(latmin),latsec,latdir[0],latdir)\\n    linestr += \\'\"{:d} deg {:d}\\' {:.2f}\"\" {}\",{},{:.1f} m Above Sea Level,Above Sea Level,\\'.format(int(londeg),int(lonmin),lonsec,londir[0],londir,alt)\\n    linestr += \\'{}\\'.format(capture.images[0].focal_length)\\n    linestr += \\'{},{},mm\\'.format(resolution,resolution)\\n    linestr += \\'\\n\\' # when writing in text mode, the write command will convert to os.linesep\\n    lines.append(linestr)\\n\\nfullCsvPath = os.path.join(outputPath,\\'log.csv\\')\\nwith open(fullCsvPath, \\'w\\') as csvfile: #create CSV\\n    csvfile.writelines(lines)\\n\\n#use Exiftool to write metadata to images\\nimport subprocess\\n\\nif os.environ.get(\\'exiftoolpath\\') is not None:\\n    exiftool_cmd = os.path.normpath(os.environ.get(\\'exiftoolpath\\'))\\nelse:\\n    exiftool_cmd = \\'exiftool\\'\\n        \\ncmd = \\'{} -csv=\"{}\" -overwrite_original {}\\'.format(exiftool_cmd, fullCsvPath, outputPath)\\nprint(cmd)\\nsubprocess.check_call(cmd)\\n'"
      ]
     },
     "execution_count": 4,
     "metadata": {},
     "output_type": "execute_result"
    }
   ],
   "source": [
    "#extract metadata from captures list and save to log.csv\n",
    "\n",
    "def decdeg2dms(dd):\n",
    "   is_positive = dd >= 0\n",
    "   dd = abs(dd)\n",
    "   minutes,seconds = divmod(dd*3600,60)\n",
    "   degrees,minutes = divmod(minutes,60)\n",
    "   degrees = degrees if is_positive else -degrees\n",
    "   return (degrees,minutes,seconds)\n",
    "\n",
    "header = \"SourceFile,\\\n",
    "GPSDateStamp,GPSTimeStamp,\\\n",
    "GPSLatitude,GpsLatitudeRef,\\\n",
    "GPSLongitude,GPSLongitudeRef,\\\n",
    "GPSAltitude,GPSAltitudeRef,\\\n",
    "FocalLength,\\\n",
    "XResolution,YResolution,ResolutionUnits\\n\"\n",
    "\n",
    "lines = [header]\n",
    "for capture in Lsky_captures:\n",
    "    #get lat,lon,alt,time\n",
    "    outputFilename = capture.uuid+'.tif'\n",
    "    fullOutputPath = os.path.join(outputPath, outputFilename)\n",
    "    lat,lon,alt = capture.location()\n",
    "    #write to csv in format:\n",
    "    # IMG_0199_1.tif,\"33 deg 32' 9.73\"\" N\",\"111 deg 51' 1.41\"\" W\",526 m Above Sea Level\n",
    "    latdeg, latmin, latsec = decdeg2dms(lat)\n",
    "    londeg, lonmin, lonsec = decdeg2dms(lon)\n",
    "    latdir = 'North'\n",
    "    if latdeg < 0:\n",
    "        latdeg = -latdeg\n",
    "        latdir = 'South'\n",
    "    londir = 'East'\n",
    "    if londeg < 0:\n",
    "        londeg = -londeg\n",
    "        londir = 'West'\n",
    "    resolution = capture.images[0].focal_plane_resolution_px_per_mm\n",
    "\n",
    "    linestr = '\"{}\",'.format(fullOutputPath)\n",
    "    linestr += capture.utc_time().strftime(\"%Y:%m:%d,%H:%M:%S,\")\n",
    "    linestr += '\"{:d} deg {:d}\\' {:.2f}\"\" {}\",{},'.format(int(latdeg),int(latmin),latsec,latdir[0],latdir)\n",
    "    linestr += '\"{:d} deg {:d}\\' {:.2f}\"\" {}\",{},{:.1f} m Above Sea Level,Above Sea Level,'.format(int(londeg),int(lonmin),lonsec,londir[0],londir,alt)\n",
    "    linestr += '{}'.format(capture.images[0].focal_length)\n",
    "    linestr += '{},{},mm'.format(resolution,resolution)\n",
    "    linestr += '\\n' # when writing in text mode, the write command will convert to os.linesep\n",
    "    lines.append(linestr)\n",
    "\n",
    "fullCsvPath = os.path.join(outputPath,'log.csv')\n",
    "with open(fullCsvPath, 'w') as csvfile: #create CSV\n",
    "    csvfile.writelines(lines)\n",
    "\n",
    "#use Exiftool to write metadata to images\n",
    "import subprocess\n",
    "\n",
    "if os.environ.get('exiftoolpath') is not None:\n",
    "    exiftool_cmd = os.path.normpath(os.environ.get('exiftoolpath'))\n",
    "else:\n",
    "    exiftool_cmd = 'exiftool'\n",
    "        \n",
    "cmd = '{} -csv=\"{}\" -overwrite_original {}'.format(exiftool_cmd, fullCsvPath, outputPath)\n",
    "print(cmd)\n",
    "subprocess.check_call(cmd)\n"
   ]
  },
  {
   "cell_type": "markdown",
   "metadata": {},
   "source": [
    "### Create new directories and save aligned, stacked Lt tifs\n",
    "\n",
    "This code was modified from provided MicaSense scripts: Batch Processing.ipynb from https://github.com/micasense/imageprocessing"
   ]
  },
  {
   "cell_type": "code",
   "execution_count": 5,
   "metadata": {},
   "outputs": [
    {
     "name": "stdout",
     "output_type": "stream",
     "text": [
      "S:/Micasense_WQ\\10_22_20\\0000SET\\000\\flight_stacks\n"
     ]
    },
    {
     "data": {
      "text/plain": [
       "\"\\noverwrite = True # can be set to set to False to continue interrupted processing\\ngenerateThumbnails = True\\n\\nif not os.path.exists(outputPath):\\n    os.makedirs(outputPath)\\nif generateThumbnails and not os.path.exists(thumbnailPath):\\n    os.makedirs(thumbnailPath)\\n\\npanelNames = None\\nuseDLS = False\\n\\ncolumns = ['timestamp', 'blue_irr', 'green_irr', 'red_irr', 'rededge_irr', 'nir_irr']\\ndata = []\\n#loop through each flight capture to align and save as stacked tif \\nfor i,capture in enumerate(flight_captures):\\n    dat = capture.utc_time()\\n    irr = capture.dls_irradiance()\\n    blue_irr = irr[0]*1000\\n    green_irr = irr[1]*1000\\n    red_irr = irr[2]*1000\\n    rededge_irr = irr[4]*1000\\n    nir_irr = irr[3]*1000\\n    outputFilename = capture.uuid+'.tif'\\n    thumbnailFilename = capture.uuid+'.jpg'\\n    fullOutputPath = os.path.join(outputPath, outputFilename)\\n    fullThumbnailPath= os.path.join(thumbnailPath, thumbnailFilename)\\n    if (not os.path.exists(fullOutputPath)) or overwrite:\\n        if(len(capture.images) == len(flight_captures[0].images)):\\n            align = capture.create_aligned_capture(irradiance_list=None, warp_matrices=None, img_type='radiance')\\n            row = [dat]+ [blue_irr] + [green_irr] + [red_irr] + [rededge_irr] + [nir_irr]\\n            data.append(row)\\n            stack = capture.save_capture_as_stack(fullOutputPath, sort_by_wavelength = True)\\n            if generateThumbnails:\\n                capture.save_capture_as_rgb(fullThumbnailPath)\\n    capture.clear_image_data()\\n    \\n# save pandas dataframe to save irr for each band and image\\nEd_data = pd.DataFrame.from_records(data, index = 'timestamp', columns = columns)\\nEd_data.to_csv(os.path.join(imagePath, 'Ed_data.csv'))\\n\""
      ]
     },
     "execution_count": 5,
     "metadata": {},
     "output_type": "execute_result"
    }
   ],
   "source": [
    "#create directory paths\n",
    "outputPath = os.path.join(imagePath, 'flight_stacks')\n",
    "print(outputPath)\n",
    "thumbnailPath = os.path.join(imagePath, 'flight_thumbnails')\n",
    "\n",
    "overwrite = True # can be set to set to False to continue interrupted processing\n",
    "generateThumbnails = True\n",
    "\n",
    "if not os.path.exists(outputPath):\n",
    "    os.makedirs(outputPath)\n",
    "if generateThumbnails and not os.path.exists(thumbnailPath):\n",
    "    os.makedirs(thumbnailPath)\n",
    "\n",
    "panelNames = None\n",
    "useDLS = False\n",
    "\n",
    "columns = ['timestamp', 'blue_irr', 'green_irr', 'red_irr', 'rededge_irr', 'nir_irr']\n",
    "data = []\n",
    "#loop through each flight capture to align and save as stacked tif \n",
    "for i,capture in enumerate(flight_captures):\n",
    "    dat = capture.utc_time()\n",
    "    irr = capture.dls_irradiance()\n",
    "    blue_irr = irr[0]*1000 #Scale to Radiance (mW)\n",
    "    green_irr = irr[1]*1000\n",
    "    red_irr = irr[2]*1000\n",
    "    rededge_irr = irr[4]*1000\n",
    "    nir_irr = irr[3]*1000\n",
    "    outputFilename = capture.uuid+'.tif'\n",
    "    thumbnailFilename = capture.uuid+'.jpg'\n",
    "    fullOutputPath = os.path.join(outputPath, outputFilename)\n",
    "    fullThumbnailPath= os.path.join(thumbnailPath, thumbnailFilename)\n",
    "    if (not os.path.exists(fullOutputPath)) or overwrite:\n",
    "        if(len(capture.images) == len(flight_captures[0].images)):\n",
    "            align = capture.create_aligned_capture(irradiance_list=None, warp_matrices=None, img_type='radiance')\n",
    "            row = [dat]+ [blue_irr] + [green_irr] + [red_irr] + [rededge_irr] + [nir_irr]\n",
    "            data.append(row)\n",
    "            stack = capture.save_capture_as_stack(fullOutputPath, sort_by_wavelength = True)\n",
    "            if generateThumbnails:\n",
    "                capture.save_capture_as_rgb(fullThumbnailPath)\n",
    "    capture.clear_image_data()\n",
    "    \n",
    "# save pandas dataframe to save Ed for each band and image\n",
    "Ed_data = pd.DataFrame.from_records(data, index = 'timestamp', columns = columns)\n",
    "Ed_data.to_csv(os.path.join(imagePath, 'Ed_data.csv'))\n"
   ]
  },
  {
   "cell_type": "markdown",
   "metadata": {},
   "source": [
    "### Extract metadata and save as log.csv\n",
    "\n",
    "This code was taken from provided MicaSense scripts: Batch Processing.ipynb from https://github.com/micasense/imageprocessing"
   ]
  },
  {
   "cell_type": "code",
   "execution_count": 6,
   "metadata": {},
   "outputs": [
    {
     "data": {
      "text/plain": [
       "\"\\nuse Exiftool to write metadata to images\\nimport subprocess\\n\\nif os.environ.get('exiftoolpath') is not None:\\n    exiftool_cmd = os.path.normpath(os.environ.get('exiftoolpath'))\\nelse:\\n    exiftool_cmd = 'exiftool'\\n\\ncmd = '{} {} -all:all -overwrite_original {}'.format(exiftoolPath, lines, outputPath)\\nprint(cmd)\\nsubprocess.check_call(cmd)\\n\""
      ]
     },
     "execution_count": 6,
     "metadata": {},
     "output_type": "execute_result"
    }
   ],
   "source": [
    "#extract metadata from captures list and save to log.csv\n",
    "exiftoolPath = None\n",
    "if os.name == 'nt':\n",
    "    exiftoolPath = 'S:/Micasense_WQ/exiftool/exiftool.exe'\n",
    "\n",
    "def decdeg2dms(dd):\n",
    "   is_positive = dd >= 0\n",
    "   dd = abs(dd)\n",
    "   minutes,seconds = divmod(dd*3600,60)\n",
    "   degrees,minutes = divmod(minutes,60)\n",
    "   degrees = degrees if is_positive else -degrees\n",
    "   return (degrees,minutes,seconds)\n",
    "\n",
    "header = \"SourceFile,ID,\\\n",
    "GPSDateStamp,GPSTimeStamp,\\\n",
    "GPSLatitude,GPSLongitude,GPSAltitude,\\\n",
    "FocalLength,\\\n",
    "Yaw,Pitch,Roll,\\\n",
    "SolarElevation,\\\n",
    "ImageWidth,ImageHeight,\\\n",
    "XResolution,YResolution,ResolutionUnits\\n\"\n",
    "\n",
    "lines = [header]\n",
    "for capture in flight_captures:\n",
    "\n",
    "    outputFilename = capture.uuid+'.tif'\n",
    "    fullOutputPath = os.path.join(outputPath, outputFilename)\n",
    "    lat,lon,alt = capture.location()\n",
    "\n",
    "    #write to csv in format:\n",
    "    # IMG_0199_1.tif,\"33 deg 32' 9.73\"\" N\",\"111 deg 51' 1.41\"\" W\",526 m Above Sea Level\n",
    "    '''\n",
    "    latdeg, latmin, latsec = decdeg2dms(lat)\n",
    "    londeg, lonmin, lonsec = decdeg2dms(lon)\n",
    "    latdir = 'North'\n",
    "    if latdeg < 0:\n",
    "        latdeg = -latdeg\n",
    "        latdir = 'South'\n",
    "    londir = 'East'\n",
    "    if londeg < 0:\n",
    "        londeg = -londeg\n",
    "        londir = 'West'\n",
    "    '''\n",
    "    resolution = capture.images[0].focal_plane_resolution_px_per_mm\n",
    "    \n",
    "    linestr = '\"{}\",'.format(fullOutputPath)\n",
    "    linestr += '\"{}\",'.format(outputFilename)\n",
    "    linestr += capture.utc_time().strftime(\"%Y:%m:%d,%H:%M:%S,\")\n",
    "    #linestr += '\"{:d} deg {:d}\\' {:.2f}\"\" {}\",{},'.format(int(latdeg),int(latmin),latsec,latdir[0],latdir)\n",
    "    #linestr += '\"{:d} deg {:d}\\' {:.2f}\"\" {}\",{},{:.1f} m Above Sea Level,Above Sea Level,'.format(int(londeg),int(lonmin),lonsec,londir[0],londir,alt)\n",
    "    linestr += '\"{}\",'.format(lat)\n",
    "    linestr += '\"{}\",'.format(lon)\n",
    "    linestr += '\"{}\",'.format(alt)\n",
    "    linestr += '\"{}\",'.format(capture.images[0].focal_length)\n",
    "    linestr += '\"{}\",'.format(capture.images[0].dls_yaw)\n",
    "    linestr += '\"{}\",'.format(capture.images[0].dls_pitch)\n",
    "    linestr += '\"{}\",'.format(capture.images[0].dls_roll)\n",
    "    linestr += '\"{}\",'.format(capture.images[0].solar_elevation)\n",
    "    meta = metadata.Metadata(fullOutputPath, exiftoolPath=exiftoolPath)\n",
    "    linestr += '\"{}\",\"{}\",'.format(meta.get_item('EXIF:ImageWidth'), meta.get_item('EXIF:ImageHeight'))\n",
    "    linestr += '\"{}\",\"{}\",\"mm\",'.format(resolution,resolution)\n",
    "    linestr += '\\n' # when writing in text mode, the write command will convert to os.linesep\n",
    "    lines.append(linestr)\n",
    "\n",
    "fullCsvPath = os.path.join(outputPath,'log.csv')\n",
    "with open(fullCsvPath, 'w') as csvfile: #create CSV\n",
    "        csvfile.writelines(lines)\n",
    "\n",
    "'''\n",
    "use Exiftool to write metadata to images\n",
    "import subprocess\n",
    "\n",
    "if os.environ.get('exiftoolpath') is not None:\n",
    "    exiftool_cmd = os.path.normpath(os.environ.get('exiftoolpath'))\n",
    "else:\n",
    "    exiftool_cmd = 'exiftool'\n",
    "\n",
    "cmd = '{} {} -all:all -overwrite_original {}'.format(exiftoolPath, lines, outputPath)\n",
    "print(cmd)\n",
    "subprocess.check_call(cmd)\n",
    "'''\n"
   ]
  }
 ],
 "metadata": {
  "kernelspec": {
   "display_name": "Python [conda env:micasense] *",
   "language": "python",
   "name": "conda-env-micasense-py"
  },
  "language_info": {
   "codemirror_mode": {
    "name": "ipython",
    "version": 3
   },
   "file_extension": ".py",
   "mimetype": "text/x-python",
   "name": "python",
   "nbconvert_exporter": "python",
   "pygments_lexer": "ipython3",
   "version": "3.7.8"
  }
 },
 "nbformat": 4,
 "nbformat_minor": 4
}
