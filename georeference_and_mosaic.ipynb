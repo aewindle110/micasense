{
 "cells": [
  {
   "cell_type": "code",
   "execution_count": 2,
   "metadata": {},
   "outputs": [],
   "source": [
    "import os\n",
    "from micasense import imageset as imageset\n",
    "from micasense import capture as capture\n",
    "from micasense import image as image\n",
    "from micasense import metadata as metadata\n",
    "import pandas as pd\n",
    "import matplotlib.pyplot as plt\n",
    "import numpy as np\n",
    "import math\n",
    "\n",
    "import rasterio\n",
    "import glob\n",
    "import xarray as xr\n",
    "\n",
    "from rasterio.merge import merge\n",
    "from rasterio.plot import show"
   ]
  },
  {
   "cell_type": "code",
   "execution_count": 3,
   "metadata": {},
   "outputs": [
    {
     "name": "stdout",
     "output_type": "stream",
     "text": [
      "F:/Micasense_WQ\\01_24_22\\0000SET\\000\n"
     ]
    }
   ],
   "source": [
    "imagePath = os.path.join('F:/', 'Micasense_WQ', '01_24_22', '0000SET', '000')\n",
    "print(imagePath)"
   ]
  },
  {
   "cell_type": "code",
   "execution_count": 4,
   "metadata": {},
   "outputs": [
    {
     "data": {
      "text/html": [
       "<div>\n",
       "<style scoped>\n",
       "    .dataframe tbody tr th:only-of-type {\n",
       "        vertical-align: middle;\n",
       "    }\n",
       "\n",
       "    .dataframe tbody tr th {\n",
       "        vertical-align: top;\n",
       "    }\n",
       "\n",
       "    .dataframe thead th {\n",
       "        text-align: right;\n",
       "    }\n",
       "</style>\n",
       "<table border=\"1\" class=\"dataframe\">\n",
       "  <thead>\n",
       "    <tr style=\"text-align: right;\">\n",
       "      <th></th>\n",
       "      <th>SourceFile</th>\n",
       "      <th>ID</th>\n",
       "      <th>GPSDateStamp</th>\n",
       "      <th>GPSTimeStamp</th>\n",
       "      <th>GPSLatitude</th>\n",
       "      <th>GPSLongitude</th>\n",
       "      <th>GPSAltitude</th>\n",
       "      <th>FocalLength</th>\n",
       "      <th>Yaw</th>\n",
       "      <th>Yaw (degrees)</th>\n",
       "      <th>Pitch</th>\n",
       "      <th>Pitch (degrees)</th>\n",
       "      <th>Roll</th>\n",
       "      <th>Roll (degrees)</th>\n",
       "      <th>SolarElevation</th>\n",
       "      <th>ImageSize</th>\n",
       "      <th>Resolution</th>\n",
       "      <th>SensorSize</th>\n",
       "    </tr>\n",
       "  </thead>\n",
       "  <tbody>\n",
       "    <tr>\n",
       "      <th>0</th>\n",
       "      <td>F:/Micasense_WQ\\01_24_22\\0000SET\\000\\flight_st...</td>\n",
       "      <td>Ylo31sWGkbuVYDF10lok.tif</td>\n",
       "      <td>2022:01:24</td>\n",
       "      <td>17:59:49</td>\n",
       "      <td>38.592835</td>\n",
       "      <td>-76.129233</td>\n",
       "      <td>52.361</td>\n",
       "      <td>5.43432</td>\n",
       "      <td>3.083048</td>\n",
       "      <td>176.645615</td>\n",
       "      <td>0.360749</td>\n",
       "      <td>20.669414</td>\n",
       "      <td>-0.389493</td>\n",
       "      <td>-22.316296</td>\n",
       "      <td>0.549203</td>\n",
       "      <td>(1280, 960)</td>\n",
       "      <td>(266.666667, 266.666667)</td>\n",
       "      <td>(4.799999993999999, 3.5999999954999997)</td>\n",
       "    </tr>\n",
       "    <tr>\n",
       "      <th>1</th>\n",
       "      <td>F:/Micasense_WQ\\01_24_22\\0000SET\\000\\flight_st...</td>\n",
       "      <td>NMoAhE4PywOT2FIXypbY.tif</td>\n",
       "      <td>2022:01:24</td>\n",
       "      <td>17:59:50</td>\n",
       "      <td>38.592879</td>\n",
       "      <td>-76.129093</td>\n",
       "      <td>51.786</td>\n",
       "      <td>5.43432</td>\n",
       "      <td>3.108874</td>\n",
       "      <td>178.125353</td>\n",
       "      <td>0.371612</td>\n",
       "      <td>21.291782</td>\n",
       "      <td>-0.401219</td>\n",
       "      <td>-22.988144</td>\n",
       "      <td>0.549190</td>\n",
       "      <td>(1280, 960)</td>\n",
       "      <td>(266.666667, 266.666667)</td>\n",
       "      <td>(4.799999993999999, 3.5999999954999997)</td>\n",
       "    </tr>\n",
       "    <tr>\n",
       "      <th>2</th>\n",
       "      <td>F:/Micasense_WQ\\01_24_22\\0000SET\\000\\flight_st...</td>\n",
       "      <td>sbi4gZ1UbCVQCvLm1CUc.tif</td>\n",
       "      <td>2022:01:24</td>\n",
       "      <td>17:59:52</td>\n",
       "      <td>38.592919</td>\n",
       "      <td>-76.128966</td>\n",
       "      <td>51.418</td>\n",
       "      <td>5.43432</td>\n",
       "      <td>3.136328</td>\n",
       "      <td>179.698332</td>\n",
       "      <td>0.396074</td>\n",
       "      <td>22.693356</td>\n",
       "      <td>-0.445524</td>\n",
       "      <td>-25.526673</td>\n",
       "      <td>0.549177</td>\n",
       "      <td>(1280, 960)</td>\n",
       "      <td>(266.666667, 266.666667)</td>\n",
       "      <td>(4.799999993999999, 3.5999999954999997)</td>\n",
       "    </tr>\n",
       "    <tr>\n",
       "      <th>3</th>\n",
       "      <td>F:/Micasense_WQ\\01_24_22\\0000SET\\000\\flight_st...</td>\n",
       "      <td>XT3Y7YBvKDwXjma03AiL.tif</td>\n",
       "      <td>2022:01:24</td>\n",
       "      <td>17:59:53</td>\n",
       "      <td>38.592953</td>\n",
       "      <td>-76.128859</td>\n",
       "      <td>51.079</td>\n",
       "      <td>5.43432</td>\n",
       "      <td>-3.096791</td>\n",
       "      <td>-177.433046</td>\n",
       "      <td>0.402766</td>\n",
       "      <td>23.076772</td>\n",
       "      <td>-0.400855</td>\n",
       "      <td>-22.967287</td>\n",
       "      <td>0.549164</td>\n",
       "      <td>(1280, 960)</td>\n",
       "      <td>(266.666667, 266.666667)</td>\n",
       "      <td>(4.799999993999999, 3.5999999954999997)</td>\n",
       "    </tr>\n",
       "    <tr>\n",
       "      <th>4</th>\n",
       "      <td>F:/Micasense_WQ\\01_24_22\\0000SET\\000\\flight_st...</td>\n",
       "      <td>tKvtNzEdaHBMwGEj03Zk.tif</td>\n",
       "      <td>2022:01:24</td>\n",
       "      <td>17:59:54</td>\n",
       "      <td>38.592987</td>\n",
       "      <td>-76.128752</td>\n",
       "      <td>50.739</td>\n",
       "      <td>5.43432</td>\n",
       "      <td>-3.069309</td>\n",
       "      <td>-175.858437</td>\n",
       "      <td>0.396036</td>\n",
       "      <td>22.691204</td>\n",
       "      <td>-0.419794</td>\n",
       "      <td>-24.052432</td>\n",
       "      <td>0.549152</td>\n",
       "      <td>(1280, 960)</td>\n",
       "      <td>(266.666667, 266.666667)</td>\n",
       "      <td>(4.799999993999999, 3.5999999954999997)</td>\n",
       "    </tr>\n",
       "  </tbody>\n",
       "</table>\n",
       "</div>"
      ],
      "text/plain": [
       "                                          SourceFile  \\\n",
       "0  F:/Micasense_WQ\\01_24_22\\0000SET\\000\\flight_st...   \n",
       "1  F:/Micasense_WQ\\01_24_22\\0000SET\\000\\flight_st...   \n",
       "2  F:/Micasense_WQ\\01_24_22\\0000SET\\000\\flight_st...   \n",
       "3  F:/Micasense_WQ\\01_24_22\\0000SET\\000\\flight_st...   \n",
       "4  F:/Micasense_WQ\\01_24_22\\0000SET\\000\\flight_st...   \n",
       "\n",
       "                         ID GPSDateStamp GPSTimeStamp  GPSLatitude  \\\n",
       "0  Ylo31sWGkbuVYDF10lok.tif   2022:01:24     17:59:49    38.592835   \n",
       "1  NMoAhE4PywOT2FIXypbY.tif   2022:01:24     17:59:50    38.592879   \n",
       "2  sbi4gZ1UbCVQCvLm1CUc.tif   2022:01:24     17:59:52    38.592919   \n",
       "3  XT3Y7YBvKDwXjma03AiL.tif   2022:01:24     17:59:53    38.592953   \n",
       "4  tKvtNzEdaHBMwGEj03Zk.tif   2022:01:24     17:59:54    38.592987   \n",
       "\n",
       "   GPSLongitude  GPSAltitude  FocalLength       Yaw  Yaw (degrees)     Pitch  \\\n",
       "0    -76.129233       52.361      5.43432  3.083048     176.645615  0.360749   \n",
       "1    -76.129093       51.786      5.43432  3.108874     178.125353  0.371612   \n",
       "2    -76.128966       51.418      5.43432  3.136328     179.698332  0.396074   \n",
       "3    -76.128859       51.079      5.43432 -3.096791    -177.433046  0.402766   \n",
       "4    -76.128752       50.739      5.43432 -3.069309    -175.858437  0.396036   \n",
       "\n",
       "   Pitch (degrees)      Roll  Roll (degrees)  SolarElevation    ImageSize  \\\n",
       "0        20.669414 -0.389493      -22.316296        0.549203  (1280, 960)   \n",
       "1        21.291782 -0.401219      -22.988144        0.549190  (1280, 960)   \n",
       "2        22.693356 -0.445524      -25.526673        0.549177  (1280, 960)   \n",
       "3        23.076772 -0.400855      -22.967287        0.549164  (1280, 960)   \n",
       "4        22.691204 -0.419794      -24.052432        0.549152  (1280, 960)   \n",
       "\n",
       "                 Resolution                               SensorSize  \n",
       "0  (266.666667, 266.666667)  (4.799999993999999, 3.5999999954999997)  \n",
       "1  (266.666667, 266.666667)  (4.799999993999999, 3.5999999954999997)  \n",
       "2  (266.666667, 266.666667)  (4.799999993999999, 3.5999999954999997)  \n",
       "3  (266.666667, 266.666667)  (4.799999993999999, 3.5999999954999997)  \n",
       "4  (266.666667, 266.666667)  (4.799999993999999, 3.5999999954999997)  "
      ]
     },
     "execution_count": 4,
     "metadata": {},
     "output_type": "execute_result"
    }
   ],
   "source": [
    "log = pd.read_csv(os.path.join(imagePath, 'flight_stacks', 'log.csv'), index_col=False)\n",
    "log.head()\n",
    "         "
   ]
  },
  {
   "cell_type": "code",
   "execution_count": 7,
   "metadata": {},
   "outputs": [
    {
     "data": {
      "image/png": "[encoded data removed]",
      "text/plain": [
       "<Figure size 432x288 with 1 Axes>"
      ]
     },
     "metadata": {
      "needs_background": "light"
     },
     "output_type": "display_data"
    }
   ],
   "source": [
    "plt.scatter(log['GPSTimeStamp'].values, log['GPSAltitude'].values, color='black')\n",
    "plt.xticks(rotation=60)\n",
    "\n",
    "plt.scatter(log['GPSTimeStamp'][265:278].values, log['GPSAltitude'][265:278].values, color='red')\n",
    "plt.scatter(log['GPSTimeStamp'][323:342].values, log['GPSAltitude'][323:342].values, color='red')\n",
    "\n",
    "plt.show()"
   ]
  },
  {
   "cell_type": "code",
   "execution_count": 8,
   "metadata": {},
   "outputs": [
    {
     "data": {
      "image/png": "[encoded data removed]",
      "text/plain": [
       "<Figure size 432x288 with 1 Axes>"
      ]
     },
     "metadata": {
      "needs_background": "light"
     },
     "output_type": "display_data"
    }
   ],
   "source": [
    "plt.scatter(log['GPSLongitude'].values, log['GPSLatitude'].values, color='black')\n",
    "\n",
    "plt.scatter(log['GPSLongitude'][0:32].values, log['GPSLatitude'][0:32].values, color='red')\n",
    "plt.scatter(log['GPSLongitude'][265:278].values, log['GPSLatitude'][265:278].values, color='red')\n",
    "plt.scatter(log['GPSLongitude'][278:290].values, log['GPSLatitude'][278:290].values, color='red')\n",
    "plt.scatter(log['GPSLongitude'][322:342].values, log['GPSLatitude'][322:342].values, color='red')\n",
    "\n",
    "plt.ticklabel_format(useOffset=False)  \n",
    "plt.show()"
   ]
  },
  {
   "cell_type": "code",
   "execution_count": 84,
   "metadata": {},
   "outputs": [
    {
     "data": {
      "image/png": "[encoded data removed]",
      "text/plain": [
       "<Figure size 432x288 with 1 Axes>"
      ]
     },
     "metadata": {
      "needs_background": "light"
     },
     "output_type": "display_data"
    }
   ],
   "source": [
    "plt.scatter(log['GPSLongitude'].values, log['GPSLatitude'].values, color='black')\n",
    "\n",
    "plt.scatter(log['GPSLongitude'][32:41].values, log['GPSLatitude'][32:41].values, color='red')\n",
    "\n",
    "plt.scatter(log['GPSLongitude'][41:53].values, log['GPSLatitude'][41:53].values, color='blue')\n",
    "\n",
    "plt.scatter(log['GPSLongitude'][53:73].values, log['GPSLatitude'][53:73].values, color='red')\n",
    "\n",
    "plt.scatter(log['GPSLongitude'][73:93].values, log['GPSLatitude'][73:93].values, color='blue')\n",
    "\n",
    "plt.scatter(log['GPSLongitude'][93:115].values, log['GPSLatitude'][93:115].values, color='red')\n",
    "\n",
    "plt.scatter(log['GPSLongitude'][115:136].values, log['GPSLatitude'][115:136].values, color='blue')\n",
    "\n",
    "plt.scatter(log['GPSLongitude'][136:158].values, log['GPSLatitude'][136:158].values, color='red')\n",
    "\n",
    "plt.scatter(log['GPSLongitude'][158:179].values, log['GPSLatitude'][158:179].values, color='blue')\n",
    "\n",
    "plt.scatter(log['GPSLongitude'][179:201].values, log['GPSLatitude'][179:201].values, color='red')\n",
    "\n",
    "plt.scatter(log['GPSLongitude'][201:222].values, log['GPSLatitude'][201:222].values, color='blue')\n",
    "\n",
    "plt.scatter(log['GPSLongitude'][222:244].values, log['GPSLatitude'][222:244].values, color='red')\n",
    "\n",
    "plt.scatter(log['GPSLongitude'][244:262].values, log['GPSLatitude'][244:262].values, color='blue')\n",
    "\n",
    "plt.scatter(log['GPSLongitude'][262:265].values, log['GPSLatitude'][262:265].values, color='red')\n",
    "plt.scatter(log['GPSLongitude'][291:304].values, log['GPSLatitude'][291:304].values, color='red')\n",
    "\n",
    "plt.scatter(log['GPSLongitude'][304:314].values, log['GPSLatitude'][304:314].values, color='blue')\n",
    "\n",
    "plt.scatter(log['GPSLongitude'][314:322].values, log['GPSLatitude'][314:322].values, color='red')\n",
    "\n",
    "#red\n",
    "yaw_front = pd.concat([log[32:41], log[53:73], log[93:115], log[136:158], log[179:201], log[222:244], log[262:265], log[291:304], log[314:322]])\n",
    "\n",
    "#blue\n",
    "yaw_back = pd.concat([log[41:52], log[73:93], log[115:136], log[158:179], log[201:222], log[244:262], log[304:314]])\n"
   ]
  },
  {
   "cell_type": "code",
   "execution_count": 86,
   "metadata": {},
   "outputs": [
    {
     "data": {
      "text/plain": [
       "<matplotlib.collections.PathCollection at 0x29e8612a888>"
      ]
     },
     "execution_count": 86,
     "metadata": {},
     "output_type": "execute_result"
    },
    {
     "data": {
      "image/png": "[encoded data removed]",
      "text/plain": [
       "<Figure size 432x288 with 1 Axes>"
      ]
     },
     "metadata": {
      "needs_background": "light"
     },
     "output_type": "display_data"
    }
   ],
   "source": [
    "\n",
    "plt.scatter(yaw_front['GPSLongitude'].values, yaw_front['GPSLatitude'].values, color='red')\n",
    "plt.scatter(yaw_back['GPSLongitude'].values, yaw_back['GPSLatitude'].values, color='blue')\n"
   ]
  },
  {
   "cell_type": "code",
   "execution_count": 5,
   "metadata": {},
   "outputs": [],
   "source": [
    "# space location / scaling factor - half the image\n",
    "\n",
    "def spacetotopdown(top_im, cam, image_size, scaling):\n",
    "    x1 = top_im.shape[0]/2 + cam.spaceFromImage([0,0])[0] / scaling\n",
    "    y1 = top_im.shape[1]/2 - cam.spaceFromImage([0,0])[1] / scaling\n",
    "    \n",
    "    x2 = top_im.shape[0]/2 + cam.spaceFromImage([image_size[0]-1,0])[0] / scaling\n",
    "    y2 = top_im.shape[1]/2 - cam.spaceFromImage([image_size[0]-1,0])[1] / scaling\n",
    "    \n",
    "    x3 = top_im.shape[0]/2 + cam.spaceFromImage([image_size[0]-1,image_size[1]-1])[0] / scaling\n",
    "    y3 = top_im.shape[1]/2 - cam.spaceFromImage([image_size[0]-1,image_size[1]-1])[1] / scaling\n",
    "    \n",
    "    x4 = top_im.shape[0]/2 + cam.spaceFromImage([0,image_size[1]-1])[0] / scaling\n",
    "    y4 = top_im.shape[1]/2 - cam.spaceFromImage([0,image_size[1]-1])[1] / scaling\n",
    "    return(np.array([[x1,y1], [x2,y2], [x3,y3], [x4,y4]]))\n",
    "    #return([x1,x2,x3,x4],[y1, y2, y3,y4])"
   ]
  },
  {
   "cell_type": "code",
   "execution_count": null,
   "metadata": {},
   "outputs": [],
   "source": [
    "#red\n",
    "yaw_front = 32:41, 53:73, 93:115, 136:158, 179:201, 222:244, 262:265, 291:304, 314:322\n",
    "\n",
    "#blue\n",
    "yaw_back = 41:52, 73:93, 115:136, 158:179, 201:222, 244:262, 304:314\n"
   ]
  },
  {
   "cell_type": "code",
   "execution_count": 19,
   "metadata": {},
   "outputs": [],
   "source": [
    "import cameratransform as ct\n",
    "\n",
    "#for n in range(33,264):\n",
    "#for n in range(291,321):\n",
    "\n",
    "for n in range(93,94):\n",
    "    log = pd.read_csv(os.path.join(imagePath, 'flight_stacks', 'log.csv'), index_col=False)\n",
    "    path_name = os.path.join(imagePath, 'flight_stacks', log['ID'][n])\n",
    "    #print(path_name)\n",
    "    focal = log['FocalLength'][n]\n",
    "    #sensor_size = log['SensorSize'][n]\n",
    "    #image_size = log['ImageSize'][n]\n",
    "    image_size = (1219,923)\n",
    "    sensor_size = (4.799999993999999, 3.5999999954999997)\n",
    "    \n",
    "    #print(focal, image_size, sensor_size)\n",
    "    lat = log['GPSLatitude'][n] \n",
    "    lon = log['GPSLongitude'][n]\n",
    "    alt = log['GPSAltitude'][n]\n",
    "    pitch = log['Pitch'][n]* 180/math.pi\n",
    "    roll = log['Roll'][n]* 180/math.pi\n",
    "    yaw = log['Yaw'][n]* 180/math.pi\n",
    "    #print(yaw, pitch, roll, alt, lat, lon)                 \n",
    "                     \n",
    "\n",
    "    cam = ct.Camera(ct.RectilinearProjection(focallength_mm=focal,\n",
    "                                        sensor=sensor_size,\n",
    "                                         image=image_size),\n",
    "                   ct.SpatialOrientation(elevation_m=alt,\n",
    "                                     tilt_deg=0,\n",
    "                                     roll_deg=0,\n",
    "                                    heading_deg=180,\n",
    "                                    pos_x_m=0, pos_y_m=0))\n",
    "    # gps pts are lat lon\n",
    "    cam.setGPSpos(lat, lon, alt)\n",
    " \n",
    "    scaling = .04\n",
    "    #for loop - top_im for each band and stack\n",
    "    top_imgs = []\n",
    "    for i in range(1,6):\n",
    "        with rasterio.open(path_name) as source:\n",
    "            im = source.read(i)\n",
    "            #print(im.shape)\n",
    "            #im = ndimage.gaussian_filter(im, sigma=45, order=0)\n",
    "\n",
    "        top_im = cam.getTopViewOfImage(im, [-100, 100,-100, 100], scaling=scaling, do_plot=False)\n",
    "        top_imgs.append(top_im) #it was .T\n",
    "    #print(top_im.shape)\n",
    "\n",
    "    stacked_projected_img = np.stack(top_imgs)\n",
    "\n",
    "    # Now get the image coordinates of the corners of the original image but in the top down image\n",
    "    image_coords = spacetotopdown(top_im, cam, image_size, scaling)\n",
    "    #print(image_coords)\n",
    "\n",
    "    # these are the coordinates of the image corners\n",
    "    coords = np.array([cam.gpsFromImage([0 , 0]), \\\n",
    "        cam.gpsFromImage([image_size[0]-1 , 0]), \\\n",
    "        cam.gpsFromImage([image_size[0]-1, image_size[1]-1]), \\\n",
    "        cam.gpsFromImage([0 , image_size[1]-1])])\n",
    "    #print(coords)\n",
    " \n",
    "    gcp1 = rasterio.control.GroundControlPoint(row=image_coords[0,0], col=image_coords[0,1], x=coords[0,1], y=coords[0,0], z=coords[0,2], id=None, info=None)\n",
    "    gcp2 = rasterio.control.GroundControlPoint(row=image_coords[1,0], col=image_coords[1,1], x=coords[1,1], y=coords[1,0], z=coords[1,2], id=None, info=None)\n",
    "    gcp3 = rasterio.control.GroundControlPoint(row=image_coords[2,0], col=image_coords[2,1], x=coords[2,1], y=coords[2,0], z=coords[2,2], id=None, info=None)\n",
    "    gcp4 = rasterio.control.GroundControlPoint(row=image_coords[3,0], col=image_coords[3,1], x=coords[3,1], y=coords[3,0], z=coords[3,2], id=None, info=None)\n",
    "    \n",
    "    # open the original image\n",
    "    with rasterio.open(os.path.join(imagePath, 'flight_stacks', log['ID'][n]), 'r') as src:\n",
    "        profile = src.profile\n",
    "        #print(profile)\n",
    "                 \n",
    "        # create rasterio transform\n",
    "        tsfm = rasterio.transform.from_gcps([gcp1,gcp2,gcp3,gcp4])\n",
    "    \n",
    "        crs = rasterio.crs.CRS({\"init\": \"epsg:4326\"})\n",
    "\n",
    "        profile.update(dtype=rasterio.float32, \n",
    "                       transform = tsfm, \n",
    "                       crs=crs,\n",
    "                      width=top_im.shape[0],\n",
    "                      height=top_im.shape[1])\n",
    "        \n",
    "        #print(profile)\n",
    "        with rasterio.open(os.path.join(imagePath, 'georeferenced_stacks_4', str(n) + '.tif'), 'w', **profile) as dst:\n",
    "            #dst.write(src.read().astype(rasterio.float32))   \n",
    "            dst.write(stacked_projected_img.astype(rasterio.float32))\n"
   ]
  },
  {
   "cell_type": "code",
   "execution_count": 20,
   "metadata": {},
   "outputs": [
    {
     "name": "stdout",
     "output_type": "stream",
     "text": [
      "(5000, 5000)\n",
      "247\n"
     ]
    }
   ],
   "source": [
    "dirpath = os.path.join(imagePath, 'georeferenced_stacks_4')\n",
    "search_criteria = \"*.tif\"\n",
    "q = os.path.join(dirpath, search_criteria)\n",
    "tif_files = glob.glob(q)\n",
    "\n",
    "src_files_to_mosaic = []\n",
    "\n",
    "for i in tif_files:\n",
    "    src = rasterio.open(i)\n",
    "    src_files_to_mosaic.append(src)\n",
    "\n",
    "print(src_files_to_mosaic[0].shape)\n",
    "print(len(src_files_to_mosaic))"
   ]
  },
  {
   "cell_type": "code",
   "execution_count": 21,
   "metadata": {},
   "outputs": [
    {
     "name": "stdout",
     "output_type": "stream",
     "text": [
      "(5, 8770, 13554)\n",
      "<class 'numpy.ndarray'>\n"
     ]
    }
   ],
   "source": [
    "#merge\n",
    "mosaic, out_trans = merge(src_files_to_mosaic)\n",
    "print(mosaic.shape)\n",
    "print(type(mosaic))"
   ]
  },
  {
   "cell_type": "code",
   "execution_count": 22,
   "metadata": {},
   "outputs": [
    {
     "data": {
      "text/plain": [
       "<matplotlib.image.AxesImage at 0x1ce8030a348>"
      ]
     },
     "execution_count": 22,
     "metadata": {},
     "output_type": "execute_result"
    },
    {
     "data": {
      "image/png": "[encoded data removed]",
      "text/plain": [
       "<Figure size 432x288 with 1 Axes>"
      ]
     },
     "metadata": {
      "needs_background": "light"
     },
     "output_type": "display_data"
    }
   ],
   "source": [
    "plt.imshow(mosaic[0,:,:])"
   ]
  },
  {
   "cell_type": "code",
   "execution_count": 57,
   "metadata": {},
   "outputs": [
    {
     "name": "stdout",
     "output_type": "stream",
     "text": [
      "<class 'numpy.ndarray'>\n"
     ]
    },
    {
     "data": {
      "image/png": "[encoded data removed]",
      "text/plain": [
       "<Figure size 432x288 with 1 Axes>"
      ]
     },
     "metadata": {
      "needs_background": "light"
     },
     "output_type": "display_data"
    },
    {
     "data": {
      "text/plain": [
       "<AxesSubplot:>"
      ]
     },
     "execution_count": 57,
     "metadata": {},
     "output_type": "execute_result"
    }
   ],
   "source": [
    "mosaic_blue = mosaic[0,:,:].astype('float')\n",
    "mosaic_blue[mosaic_blue == 0] = 'nan'\n",
    "print(type(mosaic_blue))\n",
    "show(mosaic_blue)"
   ]
  },
  {
   "cell_type": "code",
   "execution_count": 31,
   "metadata": {},
   "outputs": [
    {
     "name": "stdout",
     "output_type": "stream",
     "text": [
      "{'driver': 'GTiff', 'dtype': 'float32', 'nodata': None, 'width': 5000, 'height': 5000, 'count': 5, 'crs': CRS.from_epsg(4326), 'transform': Affine(-1.1236804382482256e-15, 4.602582136411815e-07, -76.1283824455313,\n",
      "       -3.597256087711596e-07, -8.757243993531882e-16, 38.59603211370747)}\n"
     ]
    }
   ],
   "source": [
    "#update metadata\n",
    "out_meta = src_files_to_mosaic[0].meta.copy()\n",
    "print(out_meta)\n",
    "\n",
    "\n",
    "# Update the metadata\n",
    "out_meta.update({\"driver\": \"GTiff\",\n",
    "                 \"height\": mosaic.shape[1],\n",
    "                 \"width\": mosaic.shape[2],\n",
    "                 \"transform\": out_trans,\n",
    "                 \"crs\": src.crs\n",
    "                 }\n",
    "                )\n"
   ]
  },
  {
   "cell_type": "code",
   "execution_count": 32,
   "metadata": {},
   "outputs": [],
   "source": [
    "# Write the mosaic raster to disk\n",
    "out_fp = os.path.join(dirpath, 'final_mosaic.tif')\n",
    "\n",
    "with rasterio.open(out_fp, \"w\", **out_meta) as dest:\n",
    "    dest.write(mosaic)"
   ]
  },
  {
   "cell_type": "code",
   "execution_count": 13,
   "metadata": {},
   "outputs": [
    {
     "data": {
      "text/plain": [
       "<matplotlib.image.AxesImage at 0x1ae870018c8>"
      ]
     },
     "execution_count": 13,
     "metadata": {},
     "output_type": "execute_result"
    },
    {
     "data": {
      "image/png": "[encoded data removed]",
      "text/plain": [
       "<Figure size 432x288 with 1 Axes>"
      ]
     },
     "metadata": {
      "needs_background": "light"
     },
     "output_type": "display_data"
    }
   ],
   "source": [
    "plt.imshow(mosaic[0,:,:])"
   ]
  },
  {
   "cell_type": "code",
   "execution_count": null,
   "metadata": {},
   "outputs": [],
   "source": []
  }
 ],
 "metadata": {
  "kernelspec": {
   "display_name": "Python 3",
   "language": "python",
   "name": "python3"
  },
  "language_info": {
   "codemirror_mode": {
    "name": "ipython",
    "version": 3
   },
   "file_extension": ".py",
   "mimetype": "text/x-python",
   "name": "python",
   "nbconvert_exporter": "python",
   "pygments_lexer": "ipython3",
   "version": "3.7.8"
  }
 },
 "nbformat": 4,
 "nbformat_minor": 4
}
